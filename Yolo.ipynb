{
  "nbformat": 4,
  "nbformat_minor": 0,
  "metadata": {
    "colab": {
      "provenance": []
    },
    "kernelspec": {
      "name": "python3",
      "display_name": "Python 3"
    },
    "language_info": {
      "name": "python"
    },
    "accelerator": "GPU",
    "gpuClass": "standard"
  },
  "cells": [
    {
      "cell_type": "code",
      "source": [
        "import numpy as np \n",
        "import pandas as pd \n",
        "\n",
        "import os\n",
        "\n",
        "import torch\n",
        "import torch.nn as nn"
      ],
      "metadata": {
        "id": "7SFwy1nAkh9h"
      },
      "execution_count": 5,
      "outputs": []
    },
    {
      "cell_type": "code",
      "source": [
        "architecture_config = [\n",
        "    (7, 64, 2, 3),\n",
        "    \"M\",\n",
        "    (3, 192, 1, 1),\n",
        "    \"M\",\n",
        "    (1, 128, 1, 0),\n",
        "    (3, 256, 1, 1),\n",
        "    (1, 256, 1, 0),\n",
        "    (3, 512, 1, 1),\n",
        "    \"M\",\n",
        "    [(1, 256, 1, 0), (3, 512, 1, 1), 4],\n",
        "    (1, 512, 1, 0),\n",
        "    (3, 1024, 1, 1),\n",
        "    \"M\",\n",
        "    [(1, 512, 1, 0), (3, 1024, 1, 1), 2],\n",
        "    (3, 1024, 1, 1),\n",
        "    (3, 1024, 2, 1),\n",
        "    (3, 1024, 1, 1),\n",
        "    (3, 1024, 1, 1),\n",
        "]\n"
      ],
      "metadata": {
        "id": "1HTeHwiiknZq"
      },
      "execution_count": 6,
      "outputs": []
    },
    {
      "cell_type": "code",
      "source": [
        "class ConvBlock(nn.Module):\n",
        "    \n",
        "    def __init__(self, in_channels, out_channels, **kwargs):\n",
        "        super(ConvBlock, self).__init__()\n",
        "        self.conv = nn.Conv2d(in_channels=in_channels, out_channels=out_channels, **kwargs)\n",
        "        self.bn = nn.BatchNorm2d(out_channels)\n",
        "        self.relu =nn.LeakyReLU(0.1)\n",
        "        \n",
        "    def forward(self, x):\n",
        "        \n",
        "        return self.relu(self.bn(self.conv(x)))  \n",
        "\n",
        "class Yolo(nn.Module):\n",
        "    \n",
        "    def __init__(self, in_channels = 3, **kwargs):\n",
        "        \n",
        "        super(Yolo, self).__init__()\n",
        "        self.in_channels = 3\n",
        "        self.architecture = architecture_config\n",
        "        self.body = self._create_yolo_body(self.architecture)\n",
        "        self.fcs = self._create_fcs(**kwargs)\n",
        "        \n",
        "    \n",
        "    def forward(self, x):\n",
        "        \n",
        "        return self.fcs(torch.flatten(self.body(x), start_dim = 1))\n",
        "    \n",
        "    def _create_yolo_body(self,arch):\n",
        "        \n",
        "        layers = []\n",
        "        \n",
        "        for i in arch:\n",
        "            \n",
        "            if type(i) == tuple:\n",
        "                \n",
        "                layers += [\n",
        "                    ConvBlock(in_channels = self.in_channels, out_channels = i[1], kernel_size = i[0], stride = i[2], padding = i[3])\n",
        "                ]\n",
        "                self.in_channels = i[1]\n",
        "            \n",
        "            elif type(i) == str:\n",
        "                \n",
        "                layers += [\n",
        "                    nn.MaxPool2d(stride = 2, kernel_size = 2)\n",
        "                ]\n",
        "                #self.in_channels = self.in_channels//2\n",
        "                \n",
        "            elif type(i) == list:\n",
        "                \n",
        "                for j in range(i[-1]):\n",
        "                    \n",
        "                    layers += [\n",
        "                        ConvBlock(in_channels = self.in_channels, out_channels = i[0][1], kernel_size = i[0][0], stride = i[0][2], padding = i[0][3])\n",
        "                    ]\n",
        "                    self.in_channels = i[0][1]\n",
        "                    \n",
        "                    layers += [\n",
        "                        ConvBlock(in_channels = self.in_channels, out_channels = i[1][1], kernel_size = i[1][0], stride = i[1][2], padding = i[1][3])\n",
        "                    ]\n",
        "                    self.in_channels = i[1][1]\n",
        "                    \n",
        "        return nn.Sequential(*layers)\n",
        "        \n",
        "        \n",
        "    def _create_fcs(self, split_size, num_boxes, num_cls):\n",
        "            \n",
        "        S, B, C = split_size, num_boxes, num_cls\n",
        "            \n",
        "        return nn.Sequential(\n",
        "            nn.Flatten(),\n",
        "            nn.Linear(1024*S*S, 496),\n",
        "            nn.LeakyReLU(0.1),\n",
        "            nn.Dropout(0.0),\n",
        "            nn.Linear(496, S * S * (C + B * 5))\n",
        "        )"
      ],
      "metadata": {
        "id": "4WiJkEZEkp3v"
      },
      "execution_count": 7,
      "outputs": []
    },
    {
      "cell_type": "code",
      "source": [
        "model = Yolo(split_size = 7, num_boxes = 2, num_cls = 20)\n",
        "model"
      ],
      "metadata": {
        "colab": {
          "base_uri": "https://localhost:8080/"
        },
        "id": "HGCTb8PJk7RT",
        "outputId": "f9079bae-aa8e-46de-d925-4042eb5617cc"
      },
      "execution_count": 19,
      "outputs": [
        {
          "output_type": "execute_result",
          "data": {
            "text/plain": [
              "Yolo(\n",
              "  (body): Sequential(\n",
              "    (0): ConvBlock(\n",
              "      (conv): Conv2d(3, 64, kernel_size=(7, 7), stride=(2, 2), padding=(3, 3))\n",
              "      (bn): BatchNorm2d(64, eps=1e-05, momentum=0.1, affine=True, track_running_stats=True)\n",
              "      (relu): LeakyReLU(negative_slope=0.1)\n",
              "    )\n",
              "    (1): MaxPool2d(kernel_size=2, stride=2, padding=0, dilation=1, ceil_mode=False)\n",
              "    (2): ConvBlock(\n",
              "      (conv): Conv2d(64, 192, kernel_size=(3, 3), stride=(1, 1), padding=(1, 1))\n",
              "      (bn): BatchNorm2d(192, eps=1e-05, momentum=0.1, affine=True, track_running_stats=True)\n",
              "      (relu): LeakyReLU(negative_slope=0.1)\n",
              "    )\n",
              "    (3): MaxPool2d(kernel_size=2, stride=2, padding=0, dilation=1, ceil_mode=False)\n",
              "    (4): ConvBlock(\n",
              "      (conv): Conv2d(192, 128, kernel_size=(1, 1), stride=(1, 1))\n",
              "      (bn): BatchNorm2d(128, eps=1e-05, momentum=0.1, affine=True, track_running_stats=True)\n",
              "      (relu): LeakyReLU(negative_slope=0.1)\n",
              "    )\n",
              "    (5): ConvBlock(\n",
              "      (conv): Conv2d(128, 256, kernel_size=(3, 3), stride=(1, 1), padding=(1, 1))\n",
              "      (bn): BatchNorm2d(256, eps=1e-05, momentum=0.1, affine=True, track_running_stats=True)\n",
              "      (relu): LeakyReLU(negative_slope=0.1)\n",
              "    )\n",
              "    (6): ConvBlock(\n",
              "      (conv): Conv2d(256, 256, kernel_size=(1, 1), stride=(1, 1))\n",
              "      (bn): BatchNorm2d(256, eps=1e-05, momentum=0.1, affine=True, track_running_stats=True)\n",
              "      (relu): LeakyReLU(negative_slope=0.1)\n",
              "    )\n",
              "    (7): ConvBlock(\n",
              "      (conv): Conv2d(256, 512, kernel_size=(3, 3), stride=(1, 1), padding=(1, 1))\n",
              "      (bn): BatchNorm2d(512, eps=1e-05, momentum=0.1, affine=True, track_running_stats=True)\n",
              "      (relu): LeakyReLU(negative_slope=0.1)\n",
              "    )\n",
              "    (8): MaxPool2d(kernel_size=2, stride=2, padding=0, dilation=1, ceil_mode=False)\n",
              "    (9): ConvBlock(\n",
              "      (conv): Conv2d(512, 256, kernel_size=(1, 1), stride=(1, 1))\n",
              "      (bn): BatchNorm2d(256, eps=1e-05, momentum=0.1, affine=True, track_running_stats=True)\n",
              "      (relu): LeakyReLU(negative_slope=0.1)\n",
              "    )\n",
              "    (10): ConvBlock(\n",
              "      (conv): Conv2d(256, 512, kernel_size=(3, 3), stride=(1, 1), padding=(1, 1))\n",
              "      (bn): BatchNorm2d(512, eps=1e-05, momentum=0.1, affine=True, track_running_stats=True)\n",
              "      (relu): LeakyReLU(negative_slope=0.1)\n",
              "    )\n",
              "    (11): ConvBlock(\n",
              "      (conv): Conv2d(512, 256, kernel_size=(1, 1), stride=(1, 1))\n",
              "      (bn): BatchNorm2d(256, eps=1e-05, momentum=0.1, affine=True, track_running_stats=True)\n",
              "      (relu): LeakyReLU(negative_slope=0.1)\n",
              "    )\n",
              "    (12): ConvBlock(\n",
              "      (conv): Conv2d(256, 512, kernel_size=(3, 3), stride=(1, 1), padding=(1, 1))\n",
              "      (bn): BatchNorm2d(512, eps=1e-05, momentum=0.1, affine=True, track_running_stats=True)\n",
              "      (relu): LeakyReLU(negative_slope=0.1)\n",
              "    )\n",
              "    (13): ConvBlock(\n",
              "      (conv): Conv2d(512, 256, kernel_size=(1, 1), stride=(1, 1))\n",
              "      (bn): BatchNorm2d(256, eps=1e-05, momentum=0.1, affine=True, track_running_stats=True)\n",
              "      (relu): LeakyReLU(negative_slope=0.1)\n",
              "    )\n",
              "    (14): ConvBlock(\n",
              "      (conv): Conv2d(256, 512, kernel_size=(3, 3), stride=(1, 1), padding=(1, 1))\n",
              "      (bn): BatchNorm2d(512, eps=1e-05, momentum=0.1, affine=True, track_running_stats=True)\n",
              "      (relu): LeakyReLU(negative_slope=0.1)\n",
              "    )\n",
              "    (15): ConvBlock(\n",
              "      (conv): Conv2d(512, 256, kernel_size=(1, 1), stride=(1, 1))\n",
              "      (bn): BatchNorm2d(256, eps=1e-05, momentum=0.1, affine=True, track_running_stats=True)\n",
              "      (relu): LeakyReLU(negative_slope=0.1)\n",
              "    )\n",
              "    (16): ConvBlock(\n",
              "      (conv): Conv2d(256, 512, kernel_size=(3, 3), stride=(1, 1), padding=(1, 1))\n",
              "      (bn): BatchNorm2d(512, eps=1e-05, momentum=0.1, affine=True, track_running_stats=True)\n",
              "      (relu): LeakyReLU(negative_slope=0.1)\n",
              "    )\n",
              "    (17): ConvBlock(\n",
              "      (conv): Conv2d(512, 512, kernel_size=(1, 1), stride=(1, 1))\n",
              "      (bn): BatchNorm2d(512, eps=1e-05, momentum=0.1, affine=True, track_running_stats=True)\n",
              "      (relu): LeakyReLU(negative_slope=0.1)\n",
              "    )\n",
              "    (18): ConvBlock(\n",
              "      (conv): Conv2d(512, 1024, kernel_size=(3, 3), stride=(1, 1), padding=(1, 1))\n",
              "      (bn): BatchNorm2d(1024, eps=1e-05, momentum=0.1, affine=True, track_running_stats=True)\n",
              "      (relu): LeakyReLU(negative_slope=0.1)\n",
              "    )\n",
              "    (19): MaxPool2d(kernel_size=2, stride=2, padding=0, dilation=1, ceil_mode=False)\n",
              "    (20): ConvBlock(\n",
              "      (conv): Conv2d(1024, 512, kernel_size=(1, 1), stride=(1, 1))\n",
              "      (bn): BatchNorm2d(512, eps=1e-05, momentum=0.1, affine=True, track_running_stats=True)\n",
              "      (relu): LeakyReLU(negative_slope=0.1)\n",
              "    )\n",
              "    (21): ConvBlock(\n",
              "      (conv): Conv2d(512, 1024, kernel_size=(3, 3), stride=(1, 1), padding=(1, 1))\n",
              "      (bn): BatchNorm2d(1024, eps=1e-05, momentum=0.1, affine=True, track_running_stats=True)\n",
              "      (relu): LeakyReLU(negative_slope=0.1)\n",
              "    )\n",
              "    (22): ConvBlock(\n",
              "      (conv): Conv2d(1024, 512, kernel_size=(1, 1), stride=(1, 1))\n",
              "      (bn): BatchNorm2d(512, eps=1e-05, momentum=0.1, affine=True, track_running_stats=True)\n",
              "      (relu): LeakyReLU(negative_slope=0.1)\n",
              "    )\n",
              "    (23): ConvBlock(\n",
              "      (conv): Conv2d(512, 1024, kernel_size=(3, 3), stride=(1, 1), padding=(1, 1))\n",
              "      (bn): BatchNorm2d(1024, eps=1e-05, momentum=0.1, affine=True, track_running_stats=True)\n",
              "      (relu): LeakyReLU(negative_slope=0.1)\n",
              "    )\n",
              "    (24): ConvBlock(\n",
              "      (conv): Conv2d(1024, 1024, kernel_size=(3, 3), stride=(1, 1), padding=(1, 1))\n",
              "      (bn): BatchNorm2d(1024, eps=1e-05, momentum=0.1, affine=True, track_running_stats=True)\n",
              "      (relu): LeakyReLU(negative_slope=0.1)\n",
              "    )\n",
              "    (25): ConvBlock(\n",
              "      (conv): Conv2d(1024, 1024, kernel_size=(3, 3), stride=(2, 2), padding=(1, 1))\n",
              "      (bn): BatchNorm2d(1024, eps=1e-05, momentum=0.1, affine=True, track_running_stats=True)\n",
              "      (relu): LeakyReLU(negative_slope=0.1)\n",
              "    )\n",
              "    (26): ConvBlock(\n",
              "      (conv): Conv2d(1024, 1024, kernel_size=(3, 3), stride=(1, 1), padding=(1, 1))\n",
              "      (bn): BatchNorm2d(1024, eps=1e-05, momentum=0.1, affine=True, track_running_stats=True)\n",
              "      (relu): LeakyReLU(negative_slope=0.1)\n",
              "    )\n",
              "    (27): ConvBlock(\n",
              "      (conv): Conv2d(1024, 1024, kernel_size=(3, 3), stride=(1, 1), padding=(1, 1))\n",
              "      (bn): BatchNorm2d(1024, eps=1e-05, momentum=0.1, affine=True, track_running_stats=True)\n",
              "      (relu): LeakyReLU(negative_slope=0.1)\n",
              "    )\n",
              "  )\n",
              "  (fcs): Sequential(\n",
              "    (0): Flatten(start_dim=1, end_dim=-1)\n",
              "    (1): Linear(in_features=50176, out_features=496, bias=True)\n",
              "    (2): LeakyReLU(negative_slope=0.1)\n",
              "    (3): Dropout(p=0.0, inplace=False)\n",
              "    (4): Linear(in_features=496, out_features=1470, bias=True)\n",
              "  )\n",
              ")"
            ]
          },
          "metadata": {},
          "execution_count": 19
        }
      ]
    },
    {
      "cell_type": "code",
      "source": [
        "def iOU(pred, target, format = \"midpoint\"):\n",
        "    \n",
        "    if format == \"midpoint\":\n",
        "        \n",
        "        box1_x1 = pred[...,0:1] - pred[...,2:3]/2\n",
        "        box1_x2 = pred[...,0:1] + pred[...,2:3]/2\n",
        "        box1_y1 = pred[...,1:2] - pred[...,3:4]/2\n",
        "        box1_y2 = pred[...,1:2] + pred[...,3:4]/2\n",
        "        \n",
        "        box2_x1 = target[...,0:1] - target[...,2:3]/2\n",
        "        box2_x2 = target[...,0:1] + target[...,2:3]/2\n",
        "        box2_y1 = target[...,1:2] - target[...,3:4]/2\n",
        "        box2_y2 = target[...,1:2] + target[...,3:4]/2\n",
        "        \n",
        "        \n",
        "    x1 = torch.max(box1_x1, box2_x1)[0]\n",
        "    y1 = torch.max(box1_y1, box2_y1)[0]\n",
        "    x2 = torch.min(box1_x2, box2_x2)[0]\n",
        "    y2 = torch.min(box1_y2, box2_y2)[0]\n",
        "    \n",
        "    inter = (x2 - x1).clamp(0) * (y2 - y1).clamp(0)\n",
        "    box1 = abs((box1_x2 - box1_x1) * (box1_y2 - box1_y1))\n",
        "    box2 = abs((box2_x2 - box2_x1) * (box2_y2 - box2_y1))\n",
        "    \n",
        "    union = box1 + box2 - inter + 1e-6\n",
        "    \n",
        "    iou = inter/union\n",
        "    \n",
        "    return iou"
      ],
      "metadata": {
        "id": "8fsJNOfKk8eM"
      },
      "execution_count": 9,
      "outputs": []
    },
    {
      "cell_type": "code",
      "source": [
        "class YoloLoss(nn.Module):\n",
        "    \n",
        "    def __init__(self, split = 7, Bbox= 2, num_cls =20):\n",
        "        \n",
        "        super(YoloLoss, self).__init__()\n",
        "        self.S = split\n",
        "        self.B = Bbox\n",
        "        self.C = num_cls\n",
        "        self.mse = nn.MSELoss(reduction = \"sum\")\n",
        "        self.lambda_noobj = 0.5\n",
        "        self.lambda_coord = 5\n",
        "        \n",
        "    def forward(self, pred, target):\n",
        "        \n",
        "        pred = pred.reshape(-1, self.S, self.S, self.C + self.B*5)\n",
        "        \n",
        "        iou1 = iOU(pred[...,21:25], target[...,21:25])\n",
        "        iou2 = iOU(pred[...,26:30], target[...,21:25])\n",
        "        \n",
        "        ious = torch.cat([iou1.unsqueeze(0), iou2.unsqueeze(0)], dim = 0)#[[iou1],[iou2]]\n",
        "        \n",
        "        #bbox\n",
        "        iou_max_val, best_bbox = torch.max(ious, dim = 0)\n",
        "        \n",
        "        #I_obj_ij\n",
        "        actual_box = target[...,20].unsqueeze(3)#(-1,S,S,C+B*5) ==> (-1, S,S,1,C+B*5)\n",
        "        \n",
        "        \n",
        "        #box coords\n",
        "        box_pred = actual_box * (\n",
        "            (\n",
        "                best_bbox * pred[...,26:30]\n",
        "                + (1 - best_bbox) *pred[...,21:25]\n",
        "            )\n",
        "        )\n",
        "        \n",
        "        box_pred[...,2:4] = torch.sign(box_pred[..., 2:4]) * (torch.sqrt(torch.abs(box_pred[...,2:4] + 1e-6)))\n",
        "        \n",
        "        box_target = actual_box * target[...,21:25]\n",
        "        \n",
        "        box_target[...,2:4] = torch.sqrt(box_target[..., 2:4])\n",
        "        \n",
        "        box_coord_loss = self.mse(\n",
        "            \n",
        "            torch.flatten(box_pred, end_dim=-2),\n",
        "            torch.flatten(box_target, end_dim=-2)\n",
        "\n",
        "        )\n",
        "        \n",
        "        #object loss\n",
        "        pred_box = (best_bbox * pred[..., 25:26] + (1 - best_bbox) * pred[...,20:21])\n",
        "        \n",
        "        obj_loss = self.mse(\n",
        "            torch.flatten(actual_box * pred_box),\n",
        "            torch.flatten(actual_box * target[..., 20:21])\n",
        "        )\n",
        "        \n",
        "        \n",
        "        #no object loss\n",
        "        no_obj_loss = self.mse(\n",
        "            torch.flatten((1 - actual_box) * pred[..., 20:21],start_dim = 1),\n",
        "            torch.flatten((1 - actual_box) * target[..., 20:21],start_dim = 1)\n",
        "        )\n",
        "        \n",
        "        no_obj_loss += self.mse(\n",
        "            torch.flatten((1 - actual_box) * pred[..., 25:26],start_dim = 1),\n",
        "            torch.flatten((1 - actual_box) * target[..., 20:21],start_dim = 1)\n",
        "        )\n",
        "        \n",
        "        #class loss\n",
        "        class_loss = self.mse(\n",
        "            torch.flatten((actual_box) * pred[..., :20],end_dim = -2),\n",
        "            torch.flatten((actual_box) * target[..., :20],end_dim = -2)\n",
        "        )\n",
        "        \n",
        "        loss = (\n",
        "            \n",
        "            self.lambda_coord * box_coord_loss+\n",
        "            obj_loss+\n",
        "            self.lambda_noobj * no_obj_loss+\n",
        "            class_loss\n",
        "        \n",
        "        )\n",
        "        \n",
        "        return loss"
      ],
      "metadata": {
        "id": "ljpLDfSVk-q-"
      },
      "execution_count": 10,
      "outputs": []
    },
    {
      "cell_type": "code",
      "source": [
        "def nMS(boxes, iou_threshold = 0.5, threshold = 0.4,format = \"midpoint\"):\n",
        "    #print(boxes[0])\n",
        "    boxes = [box for box in boxes if box[1]>threshold]\n",
        "    boxes = sorted(boxes, key = lambda x : x[1], reverse = True)\n",
        "    box_after_nms = []\n",
        "    \n",
        "    while boxes:\n",
        "        \n",
        "        max_box = boxes.pop(0)\n",
        "        boxes = [box for box in boxes if box[0] != max_box[0] or iOU(torch.tensor(box[2:]), torch.tensor(max_box[2:]))>iou_threshold]\n",
        "        box_after_nms.append(max_box)\n",
        "        \n",
        "    return box_after_nms"
      ],
      "metadata": {
        "id": "qnxxrlwkk_zA"
      },
      "execution_count": 11,
      "outputs": []
    },
    {
      "cell_type": "code",
      "source": [
        "def convert_cellboxes(predictions, S=7):\n",
        "\n",
        "    predictions = predictions.to(\"cpu\")\n",
        "    batch_size = predictions.shape[0]\n",
        "    predictions = predictions.reshape(batch_size, 7, 7, 30)\n",
        "    bboxes1 = predictions[..., 21:25]\n",
        "    bboxes2 = predictions[..., 26:30]\n",
        "    scores = torch.cat(\n",
        "        (predictions[..., 20].unsqueeze(0), predictions[..., 25].unsqueeze(0)), dim=0\n",
        "    )\n",
        "    best_box = scores.argmax(0).unsqueeze(-1)\n",
        "    best_boxes = bboxes1 * (1 - best_box) + best_box * bboxes2\n",
        "    cell_indices = torch.arange(7).repeat(batch_size, 7, 1).unsqueeze(-1)\n",
        "    x = 1 / S * (best_boxes[..., :1] + cell_indices)\n",
        "    y = 1 / S * (best_boxes[..., 1:2] + cell_indices.permute(0, 2, 1, 3))\n",
        "    w_y = 1 / S * best_boxes[..., 2:4]\n",
        "    converted_bboxes = torch.cat((x, y, w_y), dim=-1)\n",
        "    predicted_class = predictions[..., :20].argmax(-1).unsqueeze(-1)\n",
        "    best_confidence = torch.max(predictions[..., 20], predictions[..., 25]).unsqueeze(\n",
        "        -1\n",
        "    )\n",
        "    converted_preds = torch.cat(\n",
        "        (predicted_class, best_confidence, converted_bboxes), dim=-1\n",
        "    )\n",
        "\n",
        "    return converted_preds\n",
        "\n",
        "\n",
        "def cellboxes_to_boxes(out, S=7):\n",
        "    converted_pred = convert_cellboxes(out).reshape(out.shape[0], S * S, -1)\n",
        "    converted_pred[..., 0] = converted_pred[..., 0].long()\n",
        "    all_bboxes = []\n",
        "\n",
        "    for ex_idx in range(out.shape[0]):\n",
        "        bboxes = []\n",
        "\n",
        "        for bbox_idx in range(S * S):\n",
        "            bboxes.append([x.item() for x in converted_pred[ex_idx, bbox_idx, :]])\n",
        "        all_bboxes.append(bboxes)\n",
        "        \n",
        "    return all_bboxes"
      ],
      "metadata": {
        "id": "xHxVgdWClA9V"
      },
      "execution_count": 12,
      "outputs": []
    },
    {
      "cell_type": "code",
      "source": [
        "class PascalDataset(torch.utils.data.Dataset):\n",
        "    \n",
        "    def __init__(self, img_path, label_path, csv, S=7, B=2, C=20, transformation = None):\n",
        "        \n",
        "        super(PascalDataset, self).__init__()\n",
        "        self.S = S\n",
        "        self.B = B\n",
        "        self.C = C\n",
        "        self.annotations = pd.read_csv(csv)\n",
        "        self.transform = transformation\n",
        "        self.img_path = img_path\n",
        "        self.label_path = label_path\n",
        "        \n",
        "    def __len__(self):\n",
        "        return len(self.annotations)\n",
        "    \n",
        "    def __getitem__(self, index):\n",
        "        \n",
        "        self.label = os.path.join(self.label_path, self.annotations.iloc[index, 1])\n",
        "        self.img = os.path.join(self.img_path, self.annotations.iloc[index,0])\n",
        "        boxes = []\n",
        "        with open(self.label, 'r') as f:\n",
        "            for label in f.readlines():\n",
        "                cls, x, y, width, height = [\n",
        "                    \n",
        "                    float(x) for x in label.replace(\"\\n\", \"\").split()\n",
        "                ]\n",
        "                boxes.append([cls, x, y, width, height])\n",
        "        \n",
        "        img = Image.open(self.img)\n",
        "        boxes = torch.tensor(boxes)\n",
        "        \n",
        "        if self.transform:\n",
        "            \n",
        "            img = self.transform(img)\n",
        "            \n",
        "        label_tens = torch.zeros((self.S, self.S, self.C + 5 *self.B))\n",
        "            \n",
        "        for box in boxes:\n",
        "            \n",
        "            cls, x, y, width, height = box.tolist()\n",
        "            \n",
        "            i, j = int(self.S*y) , int(self.S*x)\n",
        "            \n",
        "            x_cell, y_cell = self.S*x - j, self.S*y - i\n",
        "            \n",
        "            width_cell, height_cell = self.S*width, self.S*height\n",
        "            \n",
        "            if label_tens[i,j,20] == 0:\n",
        "                \n",
        "                label_tens[i,j,20] = 1\n",
        "                \n",
        "                box_coord = torch.tensor([\n",
        "                    x_cell, y_cell, width_cell, height_cell\n",
        "                ])\n",
        "                \n",
        "                label_tens[i,j,21:25] = box_coord\n",
        "                \n",
        "                label_tens[i,j,int(cls)] = 1\n",
        "                \n",
        "        return img, label_tens"
      ],
      "metadata": {
        "id": "mouZ_4iQlB0R"
      },
      "execution_count": 13,
      "outputs": []
    },
    {
      "cell_type": "code",
      "source": [
        "from PIL import Image, ImageDraw\n",
        "import torchvision.transforms as transform\n",
        "from tqdm import tqdm\n",
        "import matplotlib.pyplot as plt\n",
        "import numpy as np\n",
        "\n",
        "mytrans = transform.Compose([\n",
        "    \n",
        "    transform.Resize((448,448)),\n",
        "    transform.ToTensor(),\n",
        "])\n",
        "\n",
        "dataset = PascalDataset('/content/drive/MyDrive/paper/data/voc/images', '/content/drive/MyDrive/paper/data/voc/labels', '/content/drive/MyDrive/paper/data/voc/100examples.csv', transformation = mytrans)\n",
        "\n",
        "loader = torch.utils.data.DataLoader(\n",
        "        dataset,\n",
        "        batch_size = 16,  #batch\n",
        "        num_workers=2,\n",
        "        pin_memory=True,\n",
        "        shuffle=True,\n",
        "        drop_last=False)"
      ],
      "metadata": {
        "id": "vFqh0GpSlC5A"
      },
      "execution_count": 18,
      "outputs": []
    },
    {
      "cell_type": "code",
      "source": [
        "seed = 123\n",
        "torch.manual_seed(seed)\n",
        "\n",
        "#model = Yolo()\n",
        "num_epochs = 10\n",
        "batch = 16\n",
        "\n",
        "w8_decay = 0\n",
        "optimizer = torch.optim.Adam(model.parameters(), lr = 2e-5)\n",
        "\n",
        "lossfn = YoloLoss()"
      ],
      "metadata": {
        "id": "n1g1aavmlEPZ"
      },
      "execution_count": 15,
      "outputs": []
    },
    {
      "cell_type": "code",
      "source": [
        "def train():\n",
        "    \n",
        "    for epoch in range(num_epochs):\n",
        "        \n",
        "        loop = tqdm(loader, leave = True)\n",
        "        \n",
        "        mean_loss = []\n",
        "        \n",
        "        num_crct = 0\n",
        "        num_sample = 0\n",
        "        \n",
        "        for b_id, (x, y) in enumerate(loop):\n",
        "\n",
        "            pred = model(x)\n",
        "            #print(\"claculated out...\")\n",
        "            loss = lossfn(pred, y)\n",
        "            l = loss.item()\n",
        "            #print(\"calculated loss...\")\n",
        "            optimizer.zero_grad()\n",
        "            loss.backward()\n",
        "            #print(\"calculated gradient...\")\n",
        "            optimizer.step()\n",
        "\n",
        "            '''\n",
        "            num_crct = (pred.max(1)[1] == y).sum()\n",
        "            num_sample = x.shape[0]\n",
        "            '''\n",
        "            #acc = num_crct/num_sample\n",
        "            \n",
        "            mean_loss.append(l)\n",
        "            loop.set_postfix(loss=l)#, acc=acc)\n",
        "\n",
        "        print(f\"Mean loss was {sum(mean_loss)/len(mean_loss)}\")\n"
      ],
      "metadata": {
        "id": "gJdC_qhmlUzU"
      },
      "execution_count": 16,
      "outputs": []
    },
    {
      "cell_type": "code",
      "source": [
        "train()"
      ],
      "metadata": {
        "colab": {
          "base_uri": "https://localhost:8080/"
        },
        "id": "BCRTiN0clWXL",
        "outputId": "7a3add42-0014-40fc-efaf-26ce82386297"
      },
      "execution_count": 20,
      "outputs": [
        {
          "output_type": "stream",
          "name": "stderr",
          "text": [
            "100%|██████████| 7/7 [02:16<00:00, 19.46s/it, loss=576]\n"
          ]
        },
        {
          "output_type": "stream",
          "name": "stdout",
          "text": [
            "Mean loss was 1299.0434831891741\n"
          ]
        },
        {
          "output_type": "stream",
          "name": "stderr",
          "text": [
            "100%|██████████| 7/7 [02:20<00:00, 20.07s/it, loss=573]\n"
          ]
        },
        {
          "output_type": "stream",
          "name": "stdout",
          "text": [
            "Mean loss was 1298.9252057756696\n"
          ]
        },
        {
          "output_type": "stream",
          "name": "stderr",
          "text": [
            "100%|██████████| 7/7 [02:15<00:00, 19.38s/it, loss=629]\n"
          ]
        },
        {
          "output_type": "stream",
          "name": "stdout",
          "text": [
            "Mean loss was 1319.0188249860491\n"
          ]
        },
        {
          "output_type": "stream",
          "name": "stderr",
          "text": [
            "100%|██████████| 7/7 [02:19<00:00, 19.88s/it, loss=653]\n"
          ]
        },
        {
          "output_type": "stream",
          "name": "stdout",
          "text": [
            "Mean loss was 1292.6121390206474\n"
          ]
        },
        {
          "output_type": "stream",
          "name": "stderr",
          "text": [
            "100%|██████████| 7/7 [02:21<00:00, 20.16s/it, loss=880]\n"
          ]
        },
        {
          "output_type": "stream",
          "name": "stdout",
          "text": [
            "Mean loss was 1281.4766148158483\n"
          ]
        },
        {
          "output_type": "stream",
          "name": "stderr",
          "text": [
            "100%|██████████| 7/7 [02:17<00:00, 19.65s/it, loss=705]\n"
          ]
        },
        {
          "output_type": "stream",
          "name": "stdout",
          "text": [
            "Mean loss was 1296.3421456473213\n"
          ]
        },
        {
          "output_type": "stream",
          "name": "stderr",
          "text": [
            "100%|██████████| 7/7 [02:16<00:00, 19.49s/it, loss=617]\n"
          ]
        },
        {
          "output_type": "stream",
          "name": "stdout",
          "text": [
            "Mean loss was 1272.695556640625\n"
          ]
        },
        {
          "output_type": "stream",
          "name": "stderr",
          "text": [
            "100%|██████████| 7/7 [02:18<00:00, 19.74s/it, loss=484]\n"
          ]
        },
        {
          "output_type": "stream",
          "name": "stdout",
          "text": [
            "Mean loss was 1287.5491768973213\n"
          ]
        },
        {
          "output_type": "stream",
          "name": "stderr",
          "text": [
            "100%|██████████| 7/7 [02:16<00:00, 19.52s/it, loss=540]\n"
          ]
        },
        {
          "output_type": "stream",
          "name": "stdout",
          "text": [
            "Mean loss was 1304.3669172014509\n"
          ]
        },
        {
          "output_type": "stream",
          "name": "stderr",
          "text": [
            "100%|██████████| 7/7 [02:19<00:00, 19.91s/it, loss=608]"
          ]
        },
        {
          "output_type": "stream",
          "name": "stdout",
          "text": [
            "Mean loss was 1281.9527849469866\n"
          ]
        },
        {
          "output_type": "stream",
          "name": "stderr",
          "text": [
            "\n"
          ]
        }
      ]
    }
  ]
}